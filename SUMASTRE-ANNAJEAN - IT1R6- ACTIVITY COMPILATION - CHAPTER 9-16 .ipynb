{
 "cells": [
  {
   "cell_type": "code",
   "execution_count": 1,
   "id": "31abe204",
   "metadata": {},
   "outputs": [
    {
     "name": "stdout",
     "output_type": "stream",
     "text": [
      "Chapter 9\n",
      "\n",
      "A Graph is a non-linear data structure consisting of nodes and edges. The nodes are sometimes also referred to as vertices and the edges are lines or arcs that connect any two nodes in the graph. More formally a Graph can be defined as,A Graph consists of a finite set of vertices(or nodes) and set of Edges which connect a pair of nodes.\n",
      "Graphs are used to solve many real-life problems. Graphs are used to represent networks. The networks may include paths in a city or telephone network or circuit network. Graphs are also used in social networks like linkedIn, Facebook. For example, in Facebook, each person is represented with a vertex(or node). Each node is a structure and contains information like person id, name, gender, locale etc.\n",
      "A graph G consists of two types of elements: vertices and edges. Each edge has two endpoints, which belong to the vertex set. We say that the edge connects (or joins) these two vertices.\n",
      "The vertex set of G is denoted V(G), or just V if there is no ambiguity.An edge between vertices u and v is written as {u, v}. The edge set of G is denoted E(G), or just E if there is no ambiguityThe graph in this picture has the vertex set V = {1, 2, 3, 4, 5, 6}. The edge set E = {{1, 2}, {1, 5}, {2, 3}, {2, 5}, {3, 4}, {4, 5}, {4, 6}}.\n",
      "A self-loop is an edge whose endpoints is a single vertex. Multiple edges are two or more edges that join the same two vertices.A graph is called simple if it has no self-loops and no multiple edges, and a multigraph if it does have multiple edges.The degree of a vertex v is the number of edges that connect to v.A path in a graph G = (V, E) is a sequence of vertices v1, v2, …, vk, with the property that there are edges between vi and vi+1. We say that the path goes from v1 to vk. The sequence 6, 4, 5, 1, 2 is a path from 6 to 2 in the graph above. A path is simple if its vertices are all different.A cycle is a path v1, v2, …, vk for which k > 2, the first k - 1 vertices are all different, and v1 = vk. The sequence 4, 5, 2, 3, 4 is a cycle in the graph above.\n",
      "A graph is connected if for every pair of vertices u and v, there is a path from u to v.If there is a path connecting u and v, the distance between these vertices is defined as the minimal number of edges on a path from u to v.A connected component is a subgraph of maximum size, in which every pair of vertices are connected by a path. Here is a graph with three connected components.\n",
      "Trees A tree is a connected simple acyclic graph. A vertex with degree 1 in a tree is called a leaf.Directed graphsA directed graph or digraph G = (V, E) consists of a vertex set V and an edge set of ordered pairs E of elements in the vertex set.Here is a simple acyclic digraph (often called a DAG, “directed acyclic graph”) with seven vertices and eight edges.\n",
      "Data structures Adjacency matrix An adjacency matrix is a |V|x|V|-matrix of integers, representing a graph G = (V, E). •\tThe vertices are number from 1 to |V|. •\tThe number at position (i, j) indicates the number of edges from i to j.\n",
      "\n"
     ]
    }
   ],
   "source": [
    "print('Chapter 9')\n",
    "print('')\n",
    "print('A Graph is a non-linear data structure consisting of nodes and edges. The nodes are sometimes also referred to as vertices and the edges are lines or arcs that connect any two nodes in the graph. More formally a Graph can be defined as,A Graph consists of a finite set of vertices(or nodes) and set of Edges which connect a pair of nodes.')\n",
    "print('Graphs are used to solve many real-life problems. Graphs are used to represent networks. The networks may include paths in a city or telephone network or circuit network. Graphs are also used in social networks like linkedIn, Facebook. For example, in Facebook, each person is represented with a vertex(or node). Each node is a structure and contains information like person id, name, gender, locale etc.')\n",
    "print('A graph G consists of two types of elements: vertices and edges. Each edge has two endpoints, which belong to the vertex set. We say that the edge connects (or joins) these two vertices.')\n",
    "print('The vertex set of G is denoted V(G), or just V if there is no ambiguity.An edge between vertices u and v is written as {u, v}. The edge set of G is denoted E(G), or just E if there is no ambiguityThe graph in this picture has the vertex set V = {1, 2, 3, 4, 5, 6}. The edge set E = {{1, 2}, {1, 5}, {2, 3}, {2, 5}, {3, 4}, {4, 5}, {4, 6}}.')\n",
    "print('A self-loop is an edge whose endpoints is a single vertex. Multiple edges are two or more edges that join the same two vertices.A graph is called simple if it has no self-loops and no multiple edges, and a multigraph if it does have multiple edges.The degree of a vertex v is the number of edges that connect to v.A path in a graph G = (V, E) is a sequence of vertices v1, v2, …, vk, with the property that there are edges between vi and vi+1. We say that the path goes from v1 to vk. The sequence 6, 4, 5, 1, 2 is a path from 6 to 2 in the graph above. A path is simple if its vertices are all different.A cycle is a path v1, v2, …, vk for which k > 2, the first k - 1 vertices are all different, and v1 = vk. The sequence 4, 5, 2, 3, 4 is a cycle in the graph above.')\n",
    "print('A graph is connected if for every pair of vertices u and v, there is a path from u to v.If there is a path connecting u and v, the distance between these vertices is defined as the minimal number of edges on a path from u to v.A connected component is a subgraph of maximum size, in which every pair of vertices are connected by a path. Here is a graph with three connected components.')\n",
    "print('Trees A tree is a connected simple acyclic graph. A vertex with degree 1 in a tree is called a leaf.Directed graphsA directed graph or digraph G = (V, E) consists of a vertex set V and an edge set of ordered pairs E of elements in the vertex set.Here is a simple acyclic digraph (often called a DAG, “directed acyclic graph”) with seven vertices and eight edges.')\n",
    "print('Data structures Adjacency matrix An adjacency matrix is a |V|x|V|-matrix of integers, representing a graph G = (V, E). •\tThe vertices are number from 1 to |V|. •\tThe number at position (i, j) indicates the number of edges from i to j.')\n",
    "print('')\n"
   ]
  },
  {
   "cell_type": "code",
   "execution_count": 2,
   "id": "57876003",
   "metadata": {},
   "outputs": [
    {
     "name": "stdout",
     "output_type": "stream",
     "text": [
      "Chapter 10\n",
      "Binary search is a fast search algorithm with run-time complexity of Ο(log n). This search algorithm works on the principle of divide and conquer. For this algorithm to work properly, the data collection should be in the sorted form.Binary search looks for a particular item by comparing the middle most item of the collection. If a match occurs, then the index of item is returned. If the middle item is greater than the item, then the item is searched in the sub-array to the left of the middle item. Otherwise, the item is searched for in the sub-array to the right of the middle item. This process continues on the sub-array as well until the size of the subarray reduces to zero.The analysis of a binary search is not the same as that of linear search because the loop of a binary search does not follow the pattern of going from the start of the array all the way to the end. It starts in the middle of an array and jump around. Not every element will be considered during the search process so this will be a bit different.\n",
      "A binary search can only be done to lists if two criteria are true:1.\tthe list must be sorted2.\t3.\taccess to any element given its position must have a constant run time. 4.\ttemplate <class TYPE>int binarySearch(const vector<TYPE>& arr, const TYPE& key){ int rc=-1;  int low=0; int high=arr.size()-1; int mid; while(low<=high && rc==-1){    mid=(low+high)/2;    if(key < arr[mid])      high=mid-1;  else if(key > arr[mid] )      low=mid+1;  else      rc=mid;  }/*while*/  return rc;}\n",
      "In the above code, there are two variables low and high. These represent the first and last index of the elements where key may be located. In other words, the only possible places key may exist is somewhere between arr[low] and arr[high] inclusive. In each iteration of the while loop we check the middle element between them. If key is smaller than the middle element, we move the high marker so that it is to one element before the middle one. If key is bigger, we move the low marker one element after the middle one. In other words we eliminate half of the remaining possibilities of key location after each iteration of the while loop. We stop when we either find it or we have eliminated all possible locations for key.\n",
      "\n"
     ]
    }
   ],
   "source": [
    "print('Chapter 10')\n",
    "print('Binary search is a fast search algorithm with run-time complexity of Ο(log n). This search algorithm works on the principle of divide and conquer. For this algorithm to work properly, the data collection should be in the sorted form.Binary search looks for a particular item by comparing the middle most item of the collection. If a match occurs, then the index of item is returned. If the middle item is greater than the item, then the item is searched in the sub-array to the left of the middle item. Otherwise, the item is searched for in the sub-array to the right of the middle item. This process continues on the sub-array as well until the size of the subarray reduces to zero.The analysis of a binary search is not the same as that of linear search because the loop of a binary search does not follow the pattern of going from the start of the array all the way to the end. It starts in the middle of an array and jump around. Not every element will be considered during the search process so this will be a bit different.')\n",
    "print('A binary search can only be done to lists if two criteria are true:1.\tthe list must be sorted2.\t3.\taccess to any element given its position must have a constant run time. 4.\ttemplate <class TYPE>int binarySearch(const vector<TYPE>& arr, const TYPE& key){ int rc=-1;  int low=0; int high=arr.size()-1; int mid; while(low<=high && rc==-1){    mid=(low+high)/2;    if(key < arr[mid])      high=mid-1;  else if(key > arr[mid] )      low=mid+1;  else      rc=mid;  }/*while*/  return rc;}')\n",
    "print('In the above code, there are two variables low and high. These represent the first and last index of the elements where key may be located. In other words, the only possible places key may exist is somewhere between arr[low] and arr[high] inclusive. In each iteration of the while loop we check the middle element between them. If key is smaller than the middle element, we move the high marker so that it is to one element before the middle one. If key is bigger, we move the low marker one element after the middle one. In other words we eliminate half of the remaining possibilities of key location after each iteration of the while loop. We stop when we either find it or we have eliminated all possible locations for key.')\n",
    "print('')\n"
   ]
  },
  {
   "cell_type": "code",
   "execution_count": 3,
   "id": "7c429fa8",
   "metadata": {},
   "outputs": [
    {
     "name": "stdout",
     "output_type": "stream",
     "text": [
      "Chapter 11\n",
      "Bubble sort is a simple sorting algorithm. This sorting algorithm is comparison-based algorithm in which each pair of adjacent elements is compared and the elements are swapped if they are not in order. This algorithm is not suitable for large data sets as its average and worst case complexity are of Ο(n2) where n is the number of items.\n",
      "We observe in algorithm that Bubble Sort compares each pair of array element unless the whole array is completely sorted in an ascending order. This may cause a few complexity issues like what if the array needs no more swapping as all the elements are already ascending. To ease-out the issue, we use one flag variable swapped which will help us see if any swap has happened or not. If no swap has occurred, i.e. the array requires no more processing to be sorted, it will come out of the loop.Bubble Sort is a simple algorithm which is used to sort a given set of n elements provided in form of an array with n number of elements. Bubble Sort compares all the element one by one and sort them based on their values.If the given array has to be sorted in ascending order, then bubble sort will start by comparing the first element of the array with the second element, if the first element is greater than the second element, it will swap both the elements, and then move on to compare the second and the third element, and so on.If we have total n elements, then we need to repeat this process for n-1 times.It is known as bubble sort, because with every complete iteration the largest element in the given array, bubbles up towards the last place or the highest index, just like a water bubble rises up to the water surface.Sorting takes place by stepping through all the elements one-by-one and comparing it with the adjacent element and swapping them if required.NOTE: If you are not familiar with Sorting in data structure, you should first learn what is sorting to know about the basics of sorting.\n",
      "Implementing Bubble Sort AlgorithmFollowing are the steps involved in bubble sort(for sorting a given array in ascending order):1.\tStarting with the first element(index = 0), compare the current element with the next element of the array.2.\tIf the current element is greater than the next element of the array, swap them.3.\tIf the current element is less than the next element, move to the next element.\n",
      "\n"
     ]
    }
   ],
   "source": [
    "print('Chapter 11')\n",
    "print('Bubble sort is a simple sorting algorithm. This sorting algorithm is comparison-based algorithm in which each pair of adjacent elements is compared and the elements are swapped if they are not in order. This algorithm is not suitable for large data sets as its average and worst case complexity are of Ο(n2) where n is the number of items.')\n",
    "print('We observe in algorithm that Bubble Sort compares each pair of array element unless the whole array is completely sorted in an ascending order. This may cause a few complexity issues like what if the array needs no more swapping as all the elements are already ascending. To ease-out the issue, we use one flag variable swapped which will help us see if any swap has happened or not. If no swap has occurred, i.e. the array requires no more processing to be sorted, it will come out of the loop.Bubble Sort is a simple algorithm which is used to sort a given set of n elements provided in form of an array with n number of elements. Bubble Sort compares all the element one by one and sort them based on their values.If the given array has to be sorted in ascending order, then bubble sort will start by comparing the first element of the array with the second element, if the first element is greater than the second element, it will swap both the elements, and then move on to compare the second and the third element, and so on.If we have total n elements, then we need to repeat this process for n-1 times.It is known as bubble sort, because with every complete iteration the largest element in the given array, bubbles up towards the last place or the highest index, just like a water bubble rises up to the water surface.Sorting takes place by stepping through all the elements one-by-one and comparing it with the adjacent element and swapping them if required.NOTE: If you are not familiar with Sorting in data structure, you should first learn what is sorting to know about the basics of sorting.')\n",
    "print('Implementing Bubble Sort AlgorithmFollowing are the steps involved in bubble sort(for sorting a given array in ascending order):1.\tStarting with the first element(index = 0), compare the current element with the next element of the array.2.\tIf the current element is greater than the next element of the array, swap them.3.\tIf the current element is less than the next element, move to the next element.')\n",
    "print('')\n"
   ]
  },
  {
   "cell_type": "code",
   "execution_count": 4,
   "id": "a610e4c0",
   "metadata": {},
   "outputs": [
    {
     "name": "stdout",
     "output_type": "stream",
     "text": [
      "Chapter 12\n",
      "Quick sort is a highly efficient sorting algorithm and is based on partitioning of array of data into smaller arrays. A large array is partitioned into two arrays one of which holds values smaller than the specified value, say pivot, based on which the partition is made and another array holds values greater than the pivot value.Quicksort partitions an array and then calls itself recursively twice to sort the two resulting subarrays. This algorithm is quite efficient for large-sized data sets as its average and worst-case complexity are O(n2), respectively.Based on our understanding of partitioning in quick sort, we will now try to write an algorithm for it, which is as follows.\n",
      "Quick Sort is one of the different Sorting Technique which is based on the concept of Divide and Conquer, just like merge sort. But in quick sort all the heavy lifting(major work) is done while dividing the array into subarrays, while in case of merge sort, all the real work happens during merging the subarrays. In case of quick sort, the combine step does absolutely nothing.It is also called partition-exchange sort. This algorithm divides the list into three main parts:1.\tElements less than the Pivot element2.\tPivot element(Central element)3.\tElements greater than the pivot elementPivot element can be any element from the array, it can be the first element, the last element or any random element. In this tutorial, we will take the rightmost element or the last element as pivot.For example: In the array {52, 37, 63, 14, 17, 8, 6, 25}, we take 25 as pivot. So after the first pass, the list will be changed like this.{6 8 17 14 25 63 37 52}Hence after the first pass, pivot will be set at its position, with all the elements smaller to it on its left and all the elements larger than to its right. Now 6 8 17 14 and 63 37 52 are considered as two separate sunarrays, and same recursive logic will be applied on them, and we will keep doing this until the complete array is sorted.\n",
      "How Quick Sorting Works? Following are the steps involved in quick sort algorithm:1.\tAfter selecting an element as pivot, which is the last index of the array in our case, we divide the array for the first time.2.\tIn quick sort, we call this partitioning. It is not simple breaking down of array into 2 subarrays, but in case of partitioning, the array elements are so positioned that all the elements smaller than the pivot will be on the left side of the pivot and all the elements greater than the pivot will be on the right side of it.3.\tAnd the pivot element will be at its final sorted position.4.\tThe elements to the left and right, may not be sorted..\tThen we pick sub arrays, elements on the left of pivot and elements on the right of pivot, and we perform partitioning on them by choosing a pivot in the subarrays.Lets consider an array with values {9, 7, 5, 11, 12, 2, 14, 3, 10, 6}\n",
      "\n"
     ]
    }
   ],
   "source": [
    "print('Chapter 12')\n",
    "print('Quick sort is a highly efficient sorting algorithm and is based on partitioning of array of data into smaller arrays. A large array is partitioned into two arrays one of which holds values smaller than the specified value, say pivot, based on which the partition is made and another array holds values greater than the pivot value.Quicksort partitions an array and then calls itself recursively twice to sort the two resulting subarrays. This algorithm is quite efficient for large-sized data sets as its average and worst-case complexity are O(n2), respectively.Based on our understanding of partitioning in quick sort, we will now try to write an algorithm for it, which is as follows.')\n",
    "print('Quick Sort is one of the different Sorting Technique which is based on the concept of Divide and Conquer, just like merge sort. But in quick sort all the heavy lifting(major work) is done while dividing the array into subarrays, while in case of merge sort, all the real work happens during merging the subarrays. In case of quick sort, the combine step does absolutely nothing.It is also called partition-exchange sort. This algorithm divides the list into three main parts:1.\tElements less than the Pivot element2.\tPivot element(Central element)3.\tElements greater than the pivot elementPivot element can be any element from the array, it can be the first element, the last element or any random element. In this tutorial, we will take the rightmost element or the last element as pivot.For example: In the array {52, 37, 63, 14, 17, 8, 6, 25}, we take 25 as pivot. So after the first pass, the list will be changed like this.{6 8 17 14 25 63 37 52}Hence after the first pass, pivot will be set at its position, with all the elements smaller to it on its left and all the elements larger than to its right. Now 6 8 17 14 and 63 37 52 are considered as two separate sunarrays, and same recursive logic will be applied on them, and we will keep doing this until the complete array is sorted.')\n",
    "print('How Quick Sorting Works? Following are the steps involved in quick sort algorithm:1.\tAfter selecting an element as pivot, which is the last index of the array in our case, we divide the array for the first time.2.\tIn quick sort, we call this partitioning. It is not simple breaking down of array into 2 subarrays, but in case of partitioning, the array elements are so positioned that all the elements smaller than the pivot will be on the left side of the pivot and all the elements greater than the pivot will be on the right side of it.3.\tAnd the pivot element will be at its final sorted position.4.\tThe elements to the left and right, may not be sorted..\tThen we pick sub arrays, elements on the left of pivot and elements on the right of pivot, and we perform partitioning on them by choosing a pivot in the subarrays.Lets consider an array with values {9, 7, 5, 11, 12, 2, 14, 3, 10, 6}')\n",
    "print('')\n"
   ]
  },
  {
   "cell_type": "code",
   "execution_count": 5,
   "id": "7bf54686",
   "metadata": {},
   "outputs": [
    {
     "name": "stdout",
     "output_type": "stream",
     "text": [
      "Chapter 13\n",
      "This process goes on until all the unsorted values are covered in a sorted sub-list. Now we shall see some programming aspects of insertion sort.Insertion sort is a simple sorting algorithm that builds the final sorted array one item at a time. This algorithm is a simple technique that is easy to understand and implement. The steps done by this algorithm are an iterative solution of how a complex problem can be solved by repeatedly executing very simple steps. To understand how the insertion sort works, imagine that you have a couple of cards in one hand and you need to put them in order of their rank. One way to do it is to make sure cards on the left side in your have been sorted. Then pick up the third card (which is first not sorted) and place it on proper order among the first two cards. At any point in this process, we have two parts, the left part which is sorted and the right part which is not sorted. After each round of insertions, the sorted part grows longer, and the algorithm stops when the last card has been placed where it belongs and the entire hand is sorted.The best case input about the insertion sort algorithm is when the list is already sorted, which has a linear running time (i.e., O(n)). The worst-case input is when the list is sorted in reverse order, this gives us a quadratic running time (i.e., O(n2)). The average case is also quadratic, which puts insertion sort not very useful for sorting large lists. However, insertion sort is one of the fastest algorithms for sorting very small lists. For a given list with n size of items, the best case is when the value is equal to the first element of the list, in which case only one comparison is needed. The worst case is when the value is not in the list or occurs only once at the end of the list, in which case n comparisons are needed.\n"
     ]
    }
   ],
   "source": [
    "print('Chapter 13')\n",
    "print('This process goes on until all the unsorted values are covered in a sorted sub-list. Now we shall see some programming aspects of insertion sort.Insertion sort is a simple sorting algorithm that builds the final sorted array one item at a time. This algorithm is a simple technique that is easy to understand and implement. The steps done by this algorithm are an iterative solution of how a complex problem can be solved by repeatedly executing very simple steps. To understand how the insertion sort works, imagine that you have a couple of cards in one hand and you need to put them in order of their rank. One way to do it is to make sure cards on the left side in your have been sorted. Then pick up the third card (which is first not sorted) and place it on proper order among the first two cards. At any point in this process, we have two parts, the left part which is sorted and the right part which is not sorted. After each round of insertions, the sorted part grows longer, and the algorithm stops when the last card has been placed where it belongs and the entire hand is sorted.The best case input about the insertion sort algorithm is when the list is already sorted, which has a linear running time (i.e., O(n)). The worst-case input is when the list is sorted in reverse order, this gives us a quadratic running time (i.e., O(n2)). The average case is also quadratic, which puts insertion sort not very useful for sorting large lists. However, insertion sort is one of the fastest algorithms for sorting very small lists. For a given list with n size of items, the best case is when the value is equal to the first element of the list, in which case only one comparison is needed. The worst case is when the value is not in the list or occurs only once at the end of the list, in which case n comparisons are needed.')\n"
   ]
  },
  {
   "cell_type": "code",
   "execution_count": 6,
   "id": "a0ca2212",
   "metadata": {},
   "outputs": [
    {
     "name": "stdout",
     "output_type": "stream",
     "text": [
      "Chapter 14\n",
      "Merge sort is a sorting technique based on divide and conquer technique. With worst-case time complexity being Ο(n log n), it is one of the most respected algorithms.Merge sort first divides the array into equal halves and then combines them in a sorted manner.\n",
      "How Merge Sort Works?To understand merge sort, we take an unsorted array as the following −We know that merge sort first divides the whole array iteratively into equal halves unless the atomic values are achieved. We see here that an array of 8 items is divided into two arrays of size 4.This does not change the sequence of appearance of items in the original. Now we divide these two arrays into halves.We further divide these arrays and we achieve atomic value which can no more be divided.Now, we combine them in exactly the same manner as they were broken down. Please note the color codes given to these lists.We first compare the element for each list and then combine them into another list in a sorted manner. We see that 14 and 33 are in sorted positions. We compare 27 and 10 and in the target list of 2 values we put 10 first, followed by 27. We change the order of 19 and 35 whereas 42 and 44 are placed sequentially.In the next iteration of the combining phase, we compare lists of two data values, and merge them into a list of found data values placing all in a sorted order.\n",
      "In Merge Sort, the given unsorted array with n elements, is divided into n subarrays, each having one element, because a single element is always sorted in itself. Then, it repeatedly merges these subarrays, to produce new sorted subarrays, and in the end, one complete sorted array is produced.The concept of Divide and Conquer involves three steps:1.\tDivide the problem into multiple small problems.2.\tConquer the subproblems by solving them. The idea is to break down the problem into atomic subproblems, where they are actually solved.3.\tCombine the solutions of the subproblems to find the solution of the actual problem.In merge sort, we break the given array midway, for example if the original array had 6 elements, then merge sort will break it down into two subarrays with 3 elements each.But breaking the orignal array into 2 smaller subarrays is not helping us in sorting the array.So we will break these subarrays into even smaller subarrays, until we have multiple subarrays with single element in them. Now, the idea here is that an array with a single element is already sorted, so once we break the original array into subarrays which has only a single element, we have successfully broken down our problem into base problems.And then we have to merge all these sorted subarrays, step by step to form one single sorted array\n",
      "\n"
     ]
    }
   ],
   "source": [
    "print('Chapter 14')\n",
    "print('Merge sort is a sorting technique based on divide and conquer technique. With worst-case time complexity being Ο(n log n), it is one of the most respected algorithms.Merge sort first divides the array into equal halves and then combines them in a sorted manner.')\n",
    "print('How Merge Sort Works?To understand merge sort, we take an unsorted array as the following −We know that merge sort first divides the whole array iteratively into equal halves unless the atomic values are achieved. We see here that an array of 8 items is divided into two arrays of size 4.This does not change the sequence of appearance of items in the original. Now we divide these two arrays into halves.We further divide these arrays and we achieve atomic value which can no more be divided.Now, we combine them in exactly the same manner as they were broken down. Please note the color codes given to these lists.We first compare the element for each list and then combine them into another list in a sorted manner. We see that 14 and 33 are in sorted positions. We compare 27 and 10 and in the target list of 2 values we put 10 first, followed by 27. We change the order of 19 and 35 whereas 42 and 44 are placed sequentially.In the next iteration of the combining phase, we compare lists of two data values, and merge them into a list of found data values placing all in a sorted order.')\n",
    "print('In Merge Sort, the given unsorted array with n elements, is divided into n subarrays, each having one element, because a single element is always sorted in itself. Then, it repeatedly merges these subarrays, to produce new sorted subarrays, and in the end, one complete sorted array is produced.The concept of Divide and Conquer involves three steps:1.\tDivide the problem into multiple small problems.2.\tConquer the subproblems by solving them. The idea is to break down the problem into atomic subproblems, where they are actually solved.3.\tCombine the solutions of the subproblems to find the solution of the actual problem.In merge sort, we break the given array midway, for example if the original array had 6 elements, then merge sort will break it down into two subarrays with 3 elements each.But breaking the orignal array into 2 smaller subarrays is not helping us in sorting the array.So we will break these subarrays into even smaller subarrays, until we have multiple subarrays with single element in them. Now, the idea here is that an array with a single element is already sorted, so once we break the original array into subarrays which has only a single element, we have successfully broken down our problem into base problems.And then we have to merge all these sorted subarrays, step by step to form one single sorted array')\n",
    "print('')\n"
   ]
  },
  {
   "cell_type": "code",
   "execution_count": 7,
   "id": "c7fad54b",
   "metadata": {},
   "outputs": [
    {
     "name": "stdout",
     "output_type": "stream",
     "text": [
      "Chapter 15\n",
      "Shell sort is a highly efficient sorting algorithm and is based on insertion sort algorithm. This algorithm avoids large shifts as in case of insertion sort, if the smaller value is to the far right and has to be moved to the far left.This algorithm uses insertion sort on a widely spread elements, first to sort them and then sorts the less widely spaced elements. A highly efficient sorting algorithm based on the insertion sort algorithm is known as Shell Sort. The large shifts as that of insertion sort are avoided, if in case, the smaller value is far right and which has to be moved to far left.The insertion sort is used on wide spread elements, to sort them and then sort the less widely spaced elements. The spacing is known as interval.\n",
      "Shell sort algorithm is also known as Shells method algorithm which is the variation of insertion sort algorithm. Shell sort algorithm is an improved form of insertion sort algorithm as it compares elements separated by a gap of several position. In Shell sort algorithm, the elements in an array are sorted in multiple passes and in each pass, data are taken with smaller and smaller gap sizes. However, the finale of shell sort algorithm is a plain insertion sort algorithm. But the time we reach the last part, the elements in an array are already sorted, thus Shell sort algorithm provides better performance.\n",
      "Advantages - Shell Sort•\tShell sort algorithm is only efficient for finite number of elements in an array.•\tShell sort algorithm is 5.32 x faster than bubble sort algorithm.Disadvantages - Shell Sort•\tShell sort algorithm is complex in structure and bit more difficult to understand.•\tShell sort algorithm is significantly slower than the merge sort, quick sort and heap sort algorithms.\n",
      "\n"
     ]
    }
   ],
   "source": [
    "print('Chapter 15')\n",
    "print('Shell sort is a highly efficient sorting algorithm and is based on insertion sort algorithm. This algorithm avoids large shifts as in case of insertion sort, if the smaller value is to the far right and has to be moved to the far left.This algorithm uses insertion sort on a widely spread elements, first to sort them and then sorts the less widely spaced elements. A highly efficient sorting algorithm based on the insertion sort algorithm is known as Shell Sort. The large shifts as that of insertion sort are avoided, if in case, the smaller value is far right and which has to be moved to far left.The insertion sort is used on wide spread elements, to sort them and then sort the less widely spaced elements. The spacing is known as interval.')\n",
    "print('Shell sort algorithm is also known as Shells method algorithm which is the variation of insertion sort algorithm. Shell sort algorithm is an improved form of insertion sort algorithm as it compares elements separated by a gap of several position. In Shell sort algorithm, the elements in an array are sorted in multiple passes and in each pass, data are taken with smaller and smaller gap sizes. However, the finale of shell sort algorithm is a plain insertion sort algorithm. But the time we reach the last part, the elements in an array are already sorted, thus Shell sort algorithm provides better performance.')\n",
    "print('Advantages - Shell Sort•\tShell sort algorithm is only efficient for finite number of elements in an array.•\tShell sort algorithm is 5.32 x faster than bubble sort algorithm.Disadvantages - Shell Sort•\tShell sort algorithm is complex in structure and bit more difficult to understand.•\tShell sort algorithm is significantly slower than the merge sort, quick sort and heap sort algorithms.')\n",
    "print()\n",
    "\n"
   ]
  },
  {
   "cell_type": "code",
   "execution_count": 8,
   "id": "7c18c637",
   "metadata": {},
   "outputs": [
    {
     "name": "stdout",
     "output_type": "stream",
     "text": [
      "Chapter 16\n",
      "Selection Sort Algorithm is one of the easiest sorting algorithms in Data Structures. It is a comparison-based sorting algorithm. It is used to arrange the elements of an array (in ascending order). In this article, we’re going to see how we can implement selection sort in data structures using the Python programming language.INPUT Array     –  16   12   96   42   21OUTPUT Array –  12   16   21   42   96\n",
      "In Selection Sort, the given array is divided into two parts – the sorted part and the unsorted part. The sorted part is at the left end of the array and the unsorted part is at the right end of the array respectively.At the beginning of the algorithm, the sorted part is completely empty and the unsorted part consists of the whole array. But as algo proceeds, the elements that are being sorted becomes a part of the sorted array, and the remaining subarray comes under the unsorted part.In this sorting algorithm, with every passing iteration, the least valued or the minimum element from the unsorted array is selected, using the linear search technique after that the selected element is swapped with the first element of that array. The new element added at the beginning becomes a part of the sorted array.\n",
      "Time Complexity – In an algorithm, the time complexity is defined as the amount of time taken by the algorithm to completely run and execute all its operations is known as the time complexity of an algorithm.Selection Sort Algorithm has a time complexity of O(n2) for all the three cases as explained below.1.\tBest-Case Complexity – Best case is when all the elements of the original array are already sorted. But, even in this case, the algorithm will perform all the comparison operations for each and every element of the array. Thus, its time complexity will remain the same i.e., O(n2).2.\tAverage-Case Complexity – This is the generalized amount of time taken by the algorithm for all the possible averaged inputs. Here, again some of the swapping operations and all the comparison operations will be performed for the elements of the array. As a result, the time complexity will remain the same i.e., O(n2)..\tWorst-Case Complexity – Worst case is considered when the given array is reversely sorted i.e., all the elements in descending order. This is the case where all the sorting operations and all the comparison operations will be performed for all the elements of the array. Thus, time complexity, in this case, will be again O(n2).\n"
     ]
    }
   ],
   "source": [
    "print('Chapter 16')\n",
    "print('Selection Sort Algorithm is one of the easiest sorting algorithms in Data Structures. It is a comparison-based sorting algorithm. It is used to arrange the elements of an array (in ascending order). In this article, we’re going to see how we can implement selection sort in data structures using the Python programming language.INPUT Array     –  16   12   96   42   21OUTPUT Array –  12   16   21   42   96')\n",
    "print('In Selection Sort, the given array is divided into two parts – the sorted part and the unsorted part. The sorted part is at the left end of the array and the unsorted part is at the right end of the array respectively.At the beginning of the algorithm, the sorted part is completely empty and the unsorted part consists of the whole array. But as algo proceeds, the elements that are being sorted becomes a part of the sorted array, and the remaining subarray comes under the unsorted part.In this sorting algorithm, with every passing iteration, the least valued or the minimum element from the unsorted array is selected, using the linear search technique after that the selected element is swapped with the first element of that array. The new element added at the beginning becomes a part of the sorted array.')\n",
    "print('Time Complexity – In an algorithm, the time complexity is defined as the amount of time taken by the algorithm to completely run and execute all its operations is known as the time complexity of an algorithm.Selection Sort Algorithm has a time complexity of O(n2) for all the three cases as explained below.1.\tBest-Case Complexity – Best case is when all the elements of the original array are already sorted. But, even in this case, the algorithm will perform all the comparison operations for each and every element of the array. Thus, its time complexity will remain the same i.e., O(n2).2.\tAverage-Case Complexity – This is the generalized amount of time taken by the algorithm for all the possible averaged inputs. Here, again some of the swapping operations and all the comparison operations will be performed for the elements of the array. As a result, the time complexity will remain the same i.e., O(n2)..\tWorst-Case Complexity – Worst case is considered when the given array is reversely sorted i.e., all the elements in descending order. This is the case where all the sorting operations and all the comparison operations will be performed for all the elements of the array. Thus, time complexity, in this case, will be again O(n2).')\n",
    "\n"
   ]
  },
  {
   "cell_type": "code",
   "execution_count": 9,
   "id": "dd1f2f04",
   "metadata": {},
   "outputs": [
    {
     "name": "stdout",
     "output_type": "stream",
     "text": [
      "Chapter 17\n",
      "Recursion can be tough to understand — especially for new programmers. In its simplest form, a recursive function is one that calls itself. Let me try to explain with an example.Imagine you go to open your bedroom door and it’s locked. Your three-year-old son pops in from around the corner and lets you know he hid the only key in a box. (“Just like him,” you think.) Youre late for work and you really need to get in the room to get your shirt.You open the box only to find… more boxes. Boxes inside of boxes. And you don’t know which one has the key! You need to get that shirt soon, so you have to think of a good algorithm to find that key.There are two main approaches to create an algorithm for this problem: iterative and recuA recursive function always has to say when to stop repeating itself. There should always be two parts to a recursive function: the recursive case and the base case. The recursive case is when the function calls itself. The base case is when the function stops calling itself. This prevents infinite loops.rsive.Recursion is the process of defining a problem (or the solution to a problem) in terms of (a simpler version of) itself.All recursive algorithms must have the following:1.\tBase Case (i.e., when to stop2.\t3.\tWork toward Base Case4.\t5.\tRecursive Call (i.e., call ourselves)\n",
      "The \"work toward base case\" is where we make the problem simpler (e.g., divide list into two parts, each smaller than the original). The recursive call, is where we use the same algorithm to solve a simpler version of the problem. The base case is the solution to the \"simplest\" possible problem (For example, the base case in the problem  would be if the list had only one number... and by definition if there is only one number, it is the largest).Recursion is best used for problems where a large task can be broken down into a repetitive “sub-task”. Because a recursive routine calls itself to perform those sub-tasks, eventually the routine will come across a sub-task that it can handle without calling itself. This is known as a <bbase case – and it is needed to prevent the routine from calling itself over and over again without stopping. So, one can say that the base case stops the recursion.A call stack is a data structure used by the program to store information about the active subroutines (like functions in C++ or methods in Java) in a program. The main reason for having a call stack is so that the program can keep track of where a subroutine should return control to once it finishes executing. For example, suppose we have a method “CreateBox” which calls another method “CreateLine” in 4 different places. If the program has finished executing the method CreateLine, then it needs to know where in the CreateBox method it needs to return to. This is why the program uses a call stack – so that it can keep track of these details.A stack frame is a part of the call stack, and a new stack frame is created every time a subroutine is called. So, in our recursive Factorial method above, a new stack frame is created every time the method is called. The stack frame is used to store all of the variables for one invocation of a routine. So, remember that a call stack is basically a stack of stack frames.\n",
      "\n"
     ]
    }
   ],
   "source": [
    "print('Chapter 17')\n",
    "print('Recursion can be tough to understand — especially for new programmers. In its simplest form, a recursive function is one that calls itself. Let me try to explain with an example.Imagine you go to open your bedroom door and it’s locked. Your three-year-old son pops in from around the corner and lets you know he hid the only key in a box. (“Just like him,” you think.) Youre late for work and you really need to get in the room to get your shirt.You open the box only to find… more boxes. Boxes inside of boxes. And you don’t know which one has the key! You need to get that shirt soon, so you have to think of a good algorithm to find that key.There are two main approaches to create an algorithm for this problem: iterative and recuA recursive function always has to say when to stop repeating itself. There should always be two parts to a recursive function: the recursive case and the base case. The recursive case is when the function calls itself. The base case is when the function stops calling itself. This prevents infinite loops.rsive.Recursion is the process of defining a problem (or the solution to a problem) in terms of (a simpler version of) itself.All recursive algorithms must have the following:1.\tBase Case (i.e., when to stop2.\t3.\tWork toward Base Case4.\t5.\tRecursive Call (i.e., call ourselves)')\n",
    "print('The \"work toward base case\" is where we make the problem simpler (e.g., divide list into two parts, each smaller than the original). The recursive call, is where we use the same algorithm to solve a simpler version of the problem. The base case is the solution to the \"simplest\" possible problem (For example, the base case in the problem  would be if the list had only one number... and by definition if there is only one number, it is the largest).Recursion is best used for problems where a large task can be broken down into a repetitive “sub-task”. Because a recursive routine calls itself to perform those sub-tasks, eventually the routine will come across a sub-task that it can handle without calling itself. This is known as a <bbase case – and it is needed to prevent the routine from calling itself over and over again without stopping. So, one can say that the base case stops the recursion.A call stack is a data structure used by the program to store information about the active subroutines (like functions in C++ or methods in Java) in a program. The main reason for having a call stack is so that the program can keep track of where a subroutine should return control to once it finishes executing. For example, suppose we have a method “CreateBox” which calls another method “CreateLine” in 4 different places. If the program has finished executing the method CreateLine, then it needs to know where in the CreateBox method it needs to return to. This is why the program uses a call stack – so that it can keep track of these details.A stack frame is a part of the call stack, and a new stack frame is created every time a subroutine is called. So, in our recursive Factorial method above, a new stack frame is created every time the method is called. The stack frame is used to store all of the variables for one invocation of a routine. So, remember that a call stack is basically a stack of stack frames.')\n",
    "print('')\n",
    "\n"
   ]
  },
  {
   "cell_type": "code",
   "execution_count": 11,
   "id": "4ac169de",
   "metadata": {},
   "outputs": [
    {
     "name": "stdout",
     "output_type": "stream",
     "text": [
      "1.\n",
      "\n",
      "def getNum(self): return self.num def getDen(self): return self.den\n"
     ]
    }
   ],
   "source": [
    "print('1.')\n",
    "print('')\n",
    "print('def getNum(self): return self.num def getDen(self): return self.den')\n"
   ]
  },
  {
   "cell_type": "code",
   "execution_count": 12,
   "id": "121e5d7c",
   "metadata": {},
   "outputs": [
    {
     "name": "stdout",
     "output_type": "stream",
     "text": [
      "2.\n",
      "\n",
      "def __radd__(self, other): if other == 0: return self else: other = Fraction(other, 1) return self.__add__(other)\n"
     ]
    }
   ],
   "source": [
    "print('2.')\n",
    "print('')\n",
    "print('def __radd__(self, other): if other == 0: return self else: other = Fraction(other, 1) return self.__add__(other)')\n"
   ]
  },
  {
   "cell_type": "code",
   "execution_count": 14,
   "id": "f9b20e18",
   "metadata": {},
   "outputs": [
    {
     "name": "stdout",
     "output_type": "stream",
     "text": [
      "3.\n",
      "\n",
      "def __repr__(self): return %s(%r) % (self.__class__, self.__str__()) def show(self): print(self.num, \"/\", self.den)\n"
     ]
    }
   ],
   "source": [
    "print('3.')\n",
    "print('')\n",
    "print('def __repr__(self): return %s(%r) % (self.__class__, self.__str__()) def show(self): print(self.num, \"/\", self.den)')"
   ]
  },
  {
   "cell_type": "code",
   "execution_count": 15,
   "id": "1935f41b",
   "metadata": {},
   "outputs": [
    {
     "name": "stdout",
     "output_type": "stream",
     "text": [
      "4.\n",
      "\n",
      "Half adder is a combinational circuit, which performs the addition of two binary numbers A and B are of single bit. It produces two outputs sum, S & carry, C. The Truth table of Half adder is shown below. Inputs Outputs A B C S 0 0 0 0 0 1 0 1 1 0 0 1 1 1 1 0\n"
     ]
    }
   ],
   "source": [
    "print('4.')\n",
    "print('')\n",
    "print('Half adder is a combinational circuit, which performs the addition of two binary numbers A and B are of single bit. It produces two outputs sum, S & carry, C. The Truth table of Half adder is shown below. Inputs Outputs A B C S 0 0 0 0 0 1 0 1 1 0 0 1 1 1 1 0')"
   ]
  },
  {
   "cell_type": "code",
   "execution_count": 16,
   "id": "135631ff",
   "metadata": {},
   "outputs": [
    {
     "name": "stdout",
     "output_type": "stream",
     "text": [
      "5.\n",
      "\n",
      "When you initialize the Deck object, the two for loops of _init_ create Card objects representing all the cards in a 52-card deck and add them to the card list. The first loop goes from 2 to 15 because the first value of a card is 2 and the last value of a card is 14 (the ace). Each time around the inner loop, a new card is created using the integer from the outer loop as the value (i.e. 14 for an ace) and the integer from the inner loop as the suit. This process creates 52 cards – one card for each combination of suit and value. After the method creates the cards, the shuffle method of the shuffle module randomly rearranges the items in the card list; imitating the shuffle of a deck of cards. Our deck has another method called rm_card which removes and returns a card from the card list, or returns None if it is empty.\n"
     ]
    }
   ],
   "source": [
    "print('5.')\n",
    "print('')\n",
    "print('When you initialize the Deck object, the two for loops of _init_ create Card objects representing all the cards in a 52-card deck and add them to the card list. The first loop goes from 2 to 15 because the first value of a card is 2 and the last value of a card is 14 (the ace). Each time around the inner loop, a new card is created using the integer from the outer loop as the value (i.e. 14 for an ace) and the integer from the inner loop as the suit. This process creates 52 cards – one card for each combination of suit and value. After the method creates the cards, the shuffle method of the shuffle module randomly rearranges the items in the card list; imitating the shuffle of a deck of cards. Our deck has another method called rm_card which removes and returns a card from the card list, or returns None if it is empty.')"
   ]
  },
  {
   "cell_type": "code",
   "execution_count": 18,
   "id": "9360ea1d",
   "metadata": {},
   "outputs": [
    {
     "name": "stdout",
     "output_type": "stream",
     "text": [
      "7.\n",
      "\n",
      "import collections as col #Insert some elements into the queue at first my_deque = col.deque124dfre) printDequeue+ str(my_deque)) #delete item from right and left item = my_deque.pop\n"
     ]
    }
   ],
   "source": [
    "print('7.')\n",
    "print('')\n",
    "print('import collections as col #Insert some elements into the queue at first my_deque = col.deque124dfre) printDequeue+ str(my_deque)) #delete item from right and left item = my_deque.pop') "
   ]
  },
  {
   "cell_type": "code",
   "execution_count": 21,
   "id": "f3b5e4eb",
   "metadata": {},
   "outputs": [
    {
     "name": "stdout",
     "output_type": "stream",
     "text": [
      "8.\n",
      "\n",
      "def __init__(self, data): self.data = data self.next = None # A class to represent a queue # The queue, front stores the front node # of LL and rear stores the last node of LL class Queue: def __init__(self): self.front = self.rear = None def isEmpty(self): return self.front == None # Method to add an item to the queue def EnQueue(self, item): temp = Node(item) if self.rear == None: self.front = self.rear = temp return self.rear.next = temp self.rear = temp # Method to remove an item from queue def DeQueue(self): if self.isEmpty(): return temp = self.front self.front = temp.next if(self.front == None): self.rear = None # Driver Code if _name__== __main_\n"
     ]
    }
   ],
   "source": [
    "print('8.')\n",
    "print('')\n",
    "print('def __init__(self, data): self.data = data self.next = None # A class to represent a queue # The queue, front stores the front node # of LL and rear stores the last node of LL class Queue: def __init__(self): self.front = self.rear = None def isEmpty(self): return self.front == None # Method to add an item to the queue def EnQueue(self, item): temp = Node(item) if self.rear == None: self.front = self.rear = temp return self.rear.next = temp self.rear = temp # Method to remove an item from queue def DeQueue(self): if self.isEmpty(): return temp = self.front self.front = temp.next if(self.front == None): self.rear = None # Driver Code if _name__== __main_')"
   ]
  },
  {
   "cell_type": "code",
   "execution_count": 22,
   "id": "68e0e058",
   "metadata": {},
   "outputs": [
    {
     "name": "stdout",
     "output_type": "stream",
     "text": [
      "9.\n",
      "\n",
      "8.\t# Factorial of a number using recursion def recur_factorial(n): if n == 1: return n else: return n*recur_factorial(n-1) num = 7 # check if the number is negative if num < 0: print(\"Sorry, factorial does not exist for negative numbers\") elif num == 0: print(\"The factorial of 0 is 1\") else: print(\"The factorial of\", num, \"is\", recur_factorial(num))\n"
     ]
    }
   ],
   "source": [
    "print('9.')\n",
    "print('')\n",
    "print('8.\t# Factorial of a number using recursion def recur_factorial(n): if n == 1: return n else: return n*recur_factorial(n-1) num = 7 # check if the number is negative if num < 0: print(\"Sorry, factorial does not exist for negative numbers\") elif num == 0: print(\"The factorial of 0 is 1\") else: print(\"The factorial of\", num, \"is\", recur_factorial(num))')"
   ]
  },
  {
   "cell_type": "code",
   "execution_count": 23,
   "id": "66e7d17b",
   "metadata": {},
   "outputs": [
    {
     "name": "stdout",
     "output_type": "stream",
     "text": [
      "10.\n",
      "\n",
      "9.\tWe toss a coin three times and observe the sequence of heads/tails. The sample space here may be defined as S={(H,H,H),(H,H,T),(H,T,H),(T,H,H),(H,T,T),(T,H,T),(T,T,H),(T,T,T)}. Our goal is to assign probability to certain events. For example, suppose that we would like to know the probability that the outcome of rolling a fair die is an even number. In this case, our event is the set E={2,4,6}. If the result of our random experiment belongs to the set E, we say that the event E has occurred. Thus an event is a collection of possible outcomes. In other words, an event is a subset of the sample space to which we assign a probability. Although we have not yet discussed how to find the probability of an event, you might be able to guess that the probability of {2,4,6} is 50 percent which is the same as 12 in the probability theory convention. Outcome: A result of a random experiment. Sample Space: The set of all possible outcomes. Event: A subset of the sample space.\n"
     ]
    }
   ],
   "source": [
    "print('10.')\n",
    "print('')\n",
    "print('9.\tWe toss a coin three times and observe the sequence of heads/tails. The sample space here may be defined as S={(H,H,H),(H,H,T),(H,T,H),(T,H,H),(H,T,T),(T,H,T),(T,T,H),(T,T,T)}. Our goal is to assign probability to certain events. For example, suppose that we would like to know the probability that the outcome of rolling a fair die is an even number. In this case, our event is the set E={2,4,6}. If the result of our random experiment belongs to the set E, we say that the event E has occurred. Thus an event is a collection of possible outcomes. In other words, an event is a subset of the sample space to which we assign a probability. Although we have not yet discussed how to find the probability of an event, you might be able to guess that the probability of {2,4,6} is 50 percent which is the same as 12 in the probability theory convention. Outcome: A result of a random experiment. Sample Space: The set of all possible outcomes. Event: A subset of the sample space.')"
   ]
  },
  {
   "cell_type": "code",
   "execution_count": 24,
   "id": "336e69b5",
   "metadata": {},
   "outputs": [
    {
     "name": "stdout",
     "output_type": "stream",
     "text": [
      "11.\n",
      "\n",
      "This problem is called the string edit distance problem, and is quite useful in many areas of research. Suppose that you want to transform the word “algorithm” into the word “alligator.” For each letter you can either copy the letter from one word to another at a cost of 5, you can delete a letter at cost of 20, or insert a letter at a cost of 20. The total cost to transform one word into another is used by spell check programs to provide suggestions for words that are close to one another.\n"
     ]
    }
   ],
   "source": [
    "print('11.')\n",
    "print('')\n",
    "print('This problem is called the string edit distance problem, and is quite useful in many areas of research. Suppose that you want to transform the word “algorithm” into the word “alligator.” For each letter you can either copy the letter from one word to another at a cost of 5, you can delete a letter at cost of 20, or insert a letter at a cost of 20. The total cost to transform one word into another is used by spell check programs to provide suggestions for words that are close to one another.')"
   ]
  },
  {
   "cell_type": "code",
   "execution_count": null,
   "id": "83d46ed1",
   "metadata": {},
   "outputs": [],
   "source": []
  }
 ],
 "metadata": {
  "kernelspec": {
   "display_name": "Python 3",
   "language": "python",
   "name": "python3"
  },
  "language_info": {
   "codemirror_mode": {
    "name": "ipython",
    "version": 3
   },
   "file_extension": ".py",
   "mimetype": "text/x-python",
   "name": "python",
   "nbconvert_exporter": "python",
   "pygments_lexer": "ipython3",
   "version": "3.8.6"
  }
 },
 "nbformat": 4,
 "nbformat_minor": 5
}
